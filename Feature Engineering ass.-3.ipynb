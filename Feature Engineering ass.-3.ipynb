{
 "cells": [
  {
   "cell_type": "markdown",
   "id": "8d374263-423b-4504-9290-84ef41f01730",
   "metadata": {},
   "source": [
    "# Feature Engineering Assignment-3"
   ]
  },
  {
   "cell_type": "markdown",
   "id": "3acefe91-8ed0-489f-a83c-57db8ae3ec28",
   "metadata": {},
   "source": [
    "Q1. What is data encoding? How is it useful in data science?"
   ]
  },
  {
   "cell_type": "markdown",
   "id": "169a1452-c3ff-4230-a8f2-100d45ffbd2c",
   "metadata": {},
   "source": [
    "Data encoding refers to the process of converting data from one form to another.Encoding is relavant in handling categorical data.Categorical data consists of labels or categories and can be divided into two main types: nominal and ordinal. Nominal data has categories with no inherent order, while ordinal data has categories with a meaningful order.Data encoding is essential in data science for many reasons such as :-\n",
    "\n",
    "1) Numerical Representation : many machine learnings algorithms require numerical inputs.By data encoding we can covert categorical data into numerical data without making any more efforts.\n",
    "\n",
    "2) Improve Model performence: Encoding categorical variable to convert them into numerical variable.It will increase model performence for sure because computer is very dumb machine it doesn't understand words or text,it only understand numerical values so we convert them into a numerical values.It will be easy for our model to do computing and will give you best result for sure."
   ]
  },
  {
   "cell_type": "markdown",
   "id": "37cafeea-8a26-402f-8809-ae2e910fe45a",
   "metadata": {},
   "source": [
    "Q2. What is nominal encoding? Provide an example of how you would use it in a real-world scenario."
   ]
  },
  {
   "cell_type": "markdown",
   "id": "dd5397e6-330a-4886-a9e8-abb5787e1ed1",
   "metadata": {},
   "source": [
    "Nominal encoding is a type of data encoding.One-hot encoding is a method of representing catorical values as binary vectors.Each category is represented by binary vetors.In my mind read-world scenario is suppose we working on a project where we have to predict house price so we have many feature in our dataset like [house size , no.room , city names]etc.So here city names is a caterical data in this feature we have different cities names like [indore, pune, mumbai, delhi, bhopal etc].So this feature is a nominal categories we don't need arrange them into a specific order.We can  use one-hot coding on city names to convert them into a binary vectors and after using one-hot encoding our feature will look something like this.\n",
    "\n",
    "Indore:[0,0,1,0,0]\n",
    "\n",
    "pune:[1,0,0,0,0]\n",
    "\n",
    "mumbai:[0,1,0,0,0]\n",
    "\n",
    "delhi:[0,0,0,0,1]\n",
    "\n",
    "bhopal:[0,0,0,1,0]"
   ]
  },
  {
   "cell_type": "markdown",
   "id": "79045fd3-08e8-445a-be37-2df82bfc4849",
   "metadata": {},
   "source": [
    "Q3. In what situations is nominal encoding preferred over one-hot encoding? Provide a practical example."
   ]
  },
  {
   "cell_type": "markdown",
   "id": "65b9f4f7-c8d7-44f3-befc-2ae9c0c76846",
   "metadata": {},
   "source": [
    " one-hot encoding is generally preferred in situations where the categorical variable has no inherent order, and each category is considered equally distinct.\n",
    " \n",
    "let's consider we have a dataset in which we have information about different cities including a categorical feature named \"cities\" with categories like \"indore\" ,\"pune\" , \"mumbai\" , \"bhopal\" , \"delhi\".cities are nominal there is no inherent order,one-hot encoding is prefered."
   ]
  },
  {
   "cell_type": "markdown",
   "id": "b2e3e9b9-4d83-4313-8cbb-2dfc93e0bfa2",
   "metadata": {},
   "source": [
    "Q4. Suppose you have a dataset containing categorical data with 5 unique values. Which encoding\n",
    "technique would you use to transform this data into a format suitable for machine learning algorithms?\n",
    "Explain why you made this choice."
   ]
  },
  {
   "cell_type": "markdown",
   "id": "3c4470a5-63b1-4406-80e4-ce7df42f7685",
   "metadata": {},
   "source": [
    "If i have a dataset that containing data with 5 unique values in this kind of condition i will definitely go with one-hot coding.One-hot coding is suitable when dealing with nominal categorical data where the categorical data has no ranking.Each category is represented by binary vectors.One-hot encoding provides a flexible representation that doesn't impose any numerical relationships between categories.One-hot encoding helps avoid any misinterpretation of ordinal relationships. If you use label encoding on nominal data, the model might mistakenly assume an order that doesn't exist."
   ]
  },
  {
   "cell_type": "markdown",
   "id": "a9e2d86e-64e9-4d22-972f-62fc8393f1c3",
   "metadata": {},
   "source": [
    "Q5. In a machine learning project, you have a dataset with 1000 rows and 5 columns. Two of the columns\n",
    "are categorical, and the remaining three columns are numerical. If you were to use nominal encoding to\n",
    "transform the categorical data, how many new columns would be created? Show your calculations."
   ]
  },
  {
   "cell_type": "markdown",
   "id": "a26b0c34-d970-4028-bf16-923983ed6ff0",
   "metadata": {},
   "source": [
    "Given that you have 1000 rows and 5 columns, and two of them are categorical, the other three must be numerical. Let's denote the number of unique categories in \"Category1\" as 'm' and in \"Category2\" as 'n.'\n",
    "\n",
    "So, in this case:\n",
    "\n",
    "\n",
    "Number of new columns=(m−1)+(n−1)"
   ]
  },
  {
   "cell_type": "markdown",
   "id": "6e775f74-3627-4a19-8b43-a94cbda21ea0",
   "metadata": {},
   "source": [
    "Q6. You are working with a dataset containing information about different types of animals, including their\n",
    "species, habitat, and diet. Which encoding technique would you use to transform the categorical data into\n",
    "a format suitable for machine learning algorithms? Justify your answer."
   ]
  },
  {
   "cell_type": "markdown",
   "id": "e55098b4-a004-4f69-8e50-c1b5f8eded90",
   "metadata": {},
   "source": [
    "In this kind of dataset in we have containing information about different types of animals, including their species,habitat and diet.As we can see here species , habitat and diet these all are nominal data.In my opinion we should one-hot coding."
   ]
  },
  {
   "cell_type": "markdown",
   "id": "eed31b80-3fc0-428e-9d93-8b594c62a941",
   "metadata": {},
   "source": [
    "Q7.You are working on a project that involves predicting customer churn for a telecommunications\n",
    "company. You have a dataset with 5 features, including the customer's gender, age, contract type,\n",
    "monthly charges, and tenure. Which encoding technique(s) would you use to transform the categorical\n",
    "data into numerical data? Provide a step-by-step explanation of how you would implement the encoding."
   ]
  },
  {
   "cell_type": "markdown",
   "id": "beb27315-fcad-4c73-9e9a-7234c71e6c77",
   "metadata": {},
   "source": [
    "In this kind of dataset where we have a 5 features including the customer's gender,age,contract type,monthly charges,tenure.So out  of 5 features 2 features are categorical gender and contract type.\n",
    "\n",
    "Gender (Binary Nominal):\n",
    "\n",
    "Since gender is binary (male or female), you can use label encoding or binary encoding. In this case, label encoding might be a simple choice, where you assign 0 for one gender and 1 for the other.\n"
   ]
  },
  {
   "cell_type": "code",
   "execution_count": 12,
   "id": "dc7b08db-1d69-4524-9dba-0397e8dbcf6e",
   "metadata": {},
   "outputs": [],
   "source": [
    "# Example \n",
    "\n",
    "#here i made a sample column of  gender\n",
    "\n",
    "data={\"gender\":[\"male\",\"female\",\"male\",\"male\",\"female\"],\n",
    "     \"contract_type\":[\"one year\",\"two year\",\"three year\",\"four year\",\"five month\"]}\n",
    "\n",
    "df=pd.DataFrame(data)\n",
    "\n",
    "\n",
    "import pandas as pd\n",
    "from sklearn.preprocessing import LabelEncoder\n",
    "\n",
    "\n",
    "le = LabelEncoder()\n",
    "df['gender_encoded'] = le.fit_transform(df['gender'])\n",
    "\n",
    "#Contract type(nominal)\n",
    "\n",
    "df = pd.get_dummies(df, columns=['contract_type'], prefix='contract')\n",
    "\n"
   ]
  },
  {
   "cell_type": "code",
   "execution_count": 13,
   "id": "798cf9bb-0e29-4b3f-8f20-353396511e66",
   "metadata": {},
   "outputs": [
    {
     "data": {
      "text/html": [
       "<div>\n",
       "<style scoped>\n",
       "    .dataframe tbody tr th:only-of-type {\n",
       "        vertical-align: middle;\n",
       "    }\n",
       "\n",
       "    .dataframe tbody tr th {\n",
       "        vertical-align: top;\n",
       "    }\n",
       "\n",
       "    .dataframe thead th {\n",
       "        text-align: right;\n",
       "    }\n",
       "</style>\n",
       "<table border=\"1\" class=\"dataframe\">\n",
       "  <thead>\n",
       "    <tr style=\"text-align: right;\">\n",
       "      <th></th>\n",
       "      <th>gender</th>\n",
       "      <th>gender_encoded</th>\n",
       "      <th>contract_five month</th>\n",
       "      <th>contract_four year</th>\n",
       "      <th>contract_one year</th>\n",
       "      <th>contract_three year</th>\n",
       "      <th>contract_two year</th>\n",
       "    </tr>\n",
       "  </thead>\n",
       "  <tbody>\n",
       "    <tr>\n",
       "      <th>0</th>\n",
       "      <td>male</td>\n",
       "      <td>1</td>\n",
       "      <td>0</td>\n",
       "      <td>0</td>\n",
       "      <td>1</td>\n",
       "      <td>0</td>\n",
       "      <td>0</td>\n",
       "    </tr>\n",
       "    <tr>\n",
       "      <th>1</th>\n",
       "      <td>female</td>\n",
       "      <td>0</td>\n",
       "      <td>0</td>\n",
       "      <td>0</td>\n",
       "      <td>0</td>\n",
       "      <td>0</td>\n",
       "      <td>1</td>\n",
       "    </tr>\n",
       "    <tr>\n",
       "      <th>2</th>\n",
       "      <td>male</td>\n",
       "      <td>1</td>\n",
       "      <td>0</td>\n",
       "      <td>0</td>\n",
       "      <td>0</td>\n",
       "      <td>1</td>\n",
       "      <td>0</td>\n",
       "    </tr>\n",
       "    <tr>\n",
       "      <th>3</th>\n",
       "      <td>male</td>\n",
       "      <td>1</td>\n",
       "      <td>0</td>\n",
       "      <td>1</td>\n",
       "      <td>0</td>\n",
       "      <td>0</td>\n",
       "      <td>0</td>\n",
       "    </tr>\n",
       "    <tr>\n",
       "      <th>4</th>\n",
       "      <td>female</td>\n",
       "      <td>0</td>\n",
       "      <td>1</td>\n",
       "      <td>0</td>\n",
       "      <td>0</td>\n",
       "      <td>0</td>\n",
       "      <td>0</td>\n",
       "    </tr>\n",
       "  </tbody>\n",
       "</table>\n",
       "</div>"
      ],
      "text/plain": [
       "   gender  gender_encoded  contract_five month  contract_four year  \\\n",
       "0    male               1                    0                   0   \n",
       "1  female               0                    0                   0   \n",
       "2    male               1                    0                   0   \n",
       "3    male               1                    0                   1   \n",
       "4  female               0                    1                   0   \n",
       "\n",
       "   contract_one year  contract_three year  contract_two year  \n",
       "0                  1                    0                  0  \n",
       "1                  0                    0                  1  \n",
       "2                  0                    1                  0  \n",
       "3                  0                    0                  0  \n",
       "4                  0                    0                  0  "
      ]
     },
     "execution_count": 13,
     "metadata": {},
     "output_type": "execute_result"
    }
   ],
   "source": [
    "df"
   ]
  },
  {
   "cell_type": "code",
   "execution_count": null,
   "id": "681b0e30-4631-4636-a17b-8b8f89ebccfa",
   "metadata": {},
   "outputs": [],
   "source": []
  }
 ],
 "metadata": {
  "kernelspec": {
   "display_name": "Python 3 (ipykernel)",
   "language": "python",
   "name": "python3"
  },
  "language_info": {
   "codemirror_mode": {
    "name": "ipython",
    "version": 3
   },
   "file_extension": ".py",
   "mimetype": "text/x-python",
   "name": "python",
   "nbconvert_exporter": "python",
   "pygments_lexer": "ipython3",
   "version": "3.10.8"
  }
 },
 "nbformat": 4,
 "nbformat_minor": 5
}
